{
 "cells": [
  {
   "cell_type": "markdown",
   "id": "fb152d7f-9d15-4740-90f4-12d6b6f97c00",
   "metadata": {},
   "source": [
    "## ETL PROCESS FOR CHADWICK BASEBALL DATA\n",
    "This is an ETL process to import data from the Chadwick Databank into a Microsoft SQL Server database, either locally hosted or on AWS.\n",
    "https://github.com/chadwickbureau/baseballdatabank\n",
    "\n",
    "## INTENT:\n",
    "* become part of AWS lambda job\n",
    "* import from S3\n",
    "* Deploy schema fresh\n",
    "* call SSMS job to do post-import updates\n",
    "\n",
    "### TODO:\n",
    "* Integrate native python logging framework\n",
    "* Define schema and key relationships for entire Chadwick db upon import\n",
    "* Validation testing on imports -- basic metadata catalog to check on number of rows and full set of tables etc\n",
    "* Normalization in SQL post-processing"
   ]
  },
  {
   "cell_type": "code",
   "execution_count": 68,
   "id": "e09d7fae-cb2c-4e1e-9964-9bc0e37a5882",
   "metadata": {},
   "outputs": [],
   "source": [
    "import pandas as pd\n",
    "import os.path\n",
    "import pyodbc\n",
    "import sqlalchemy"
   ]
  },
  {
   "cell_type": "code",
   "execution_count": 111,
   "id": "792d7f03-7868-4ade-91ac-0156477fdb08",
   "metadata": {},
   "outputs": [],
   "source": [
    "# migrate me to a config file.\n",
    "root_dir = \"../../baseballdatabank/\"\n",
    "\n",
    "server = \"(localdb)\\MSSQLLocalDB\"\n",
    "database = \"baseball\""
   ]
  },
  {
   "cell_type": "code",
   "execution_count": 111,
   "id": "5e51d7fe-6ac0-4d61-8366-1283d52c94d4",
   "metadata": {},
   "outputs": [],
   "source": [
    "engine = sqlalchemy.create_engine(\"mssql+pyodbc://\" + server + \"/\" + database + \"?trusted_connection=yes&driver=ODBC+Driver+17+for+SQL+Server\")"
   ]
  },
  {
   "cell_type": "code",
   "execution_count": 134,
   "id": "d44b5115-e216-48a2-b9d8-32b7d8a45274",
   "metadata": {},
   "outputs": [
    {
     "name": "stdout",
     "output_type": "stream",
     "text": [
      "core\n",
      "AllstarFull.csv successfully uploaded.\n",
      "Appearances.csv successfully uploaded.\n",
      "Batting.csv successfully uploaded.\n",
      "BattingPost.csv successfully uploaded.\n",
      "Fielding.csv successfully uploaded.\n",
      "FieldingOF.csv successfully uploaded.\n",
      "FieldingOFsplit.csv successfully uploaded.\n",
      "FieldingPost.csv successfully uploaded.\n",
      "HomeGames.csv successfully uploaded.\n",
      "Managers.csv successfully uploaded.\n",
      "ManagersHalf.csv successfully uploaded.\n",
      "Parks.csv successfully uploaded.\n",
      "People.csv successfully uploaded.\n",
      "Pitching.csv successfully uploaded.\n",
      "PitchingPost.csv successfully uploaded.\n",
      "SeriesPost.csv successfully uploaded.\n",
      "Teams.csv successfully uploaded.\n",
      "TeamsFranchises.csv successfully uploaded.\n",
      "TeamsHalf.csv successfully uploaded.\n",
      "contrib\n",
      "AwardsManagers.csv successfully uploaded.\n",
      "AwardsPlayers.csv successfully uploaded.\n",
      "AwardsShareManagers.csv successfully uploaded.\n",
      "AwardsSharePlayers.csv successfully uploaded.\n",
      "CollegePlaying.csv successfully uploaded.\n",
      "HallOfFame.csv successfully uploaded.\n",
      "Salaries.csv successfully uploaded.\n",
      "Schools.csv successfully uploaded.\n"
     ]
    }
   ],
   "source": [
    "subdirs = [\"core\",\"contrib\"]\n",
    "\n",
    "with engine.connect() as conn:\n",
    "\n",
    "    for subdir in subdirs:\n",
    "        print(subdir)\n",
    "    \n",
    "        for i in os.listdir(root_dir + subdir):\n",
    "\n",
    "            if i.endswith(\".csv\"):\n",
    "\n",
    "                file_name = root_dir + subdir + \"/\" + i\n",
    "                table_name = subdir + \"_\" + i.replace(\".csv\",\"\")\n",
    "\n",
    "                df = pd.read_csv(file_name)\n",
    "                \n",
    "                # didn't realize that inf was an actual valid state for a pandas float\n",
    "                # infinite ERAs are unfortunate.\n",
    "                df.replace({np.inf: np.nan, -np.inf: np.nan}, inplace=True)  \n",
    "                \n",
    "                # should probably add data validation checks at this step prior to import into sql\n",
    "\n",
    "                df.to_sql(name=table_name, con=engine, if_exists='replace', index=False)\n",
    "\n",
    "                print(i + \" successfully uploaded.\")\n",
    "    "
   ]
  },
  {
   "cell_type": "markdown",
   "id": "1ee28f33-f0ff-4948-bd0a-7bafe5d015ea",
   "metadata": {},
   "source": [
    "### Everything past this point is scratch work that may be unnecessary."
   ]
  },
  {
   "cell_type": "code",
   "execution_count": 135,
   "id": "286cfecf-f015-4763-a599-c42b278b29a9",
   "metadata": {},
   "outputs": [],
   "source": [
    "# from sqlalchemy.ext.automap import automap_base\n",
    "# from sqlalchemy.orm import Session\n",
    "\n",
    "# Base = automap_base()\n",
    "# Base.prepare(engine, reflect=True)\n",
    "\n",
    "\n",
    "\n",
    "# still in progress: generating read call in sqlalchemy to pull data from defined view\n",
    "#metadata = sqlalchemy.MetaData()\n",
    "#sqlalchemy.MetaData.reflect(metadata)\n",
    "#test_view = sqlalchemy.Table('test_view', metadata)"
   ]
  },
  {
   "cell_type": "code",
   "execution_count": 136,
   "id": "7de20cca-d317-4490-a2be-6712cd506aa3",
   "metadata": {},
   "outputs": [
    {
     "data": {
      "text/plain": [
       "[]"
      ]
     },
     "execution_count": 136,
     "metadata": {},
     "output_type": "execute_result"
    }
   ],
   "source": [
    "# Base.classes.keys()"
   ]
  },
  {
   "cell_type": "code",
   "execution_count": null,
   "id": "40b6b963-67f6-4071-b522-f8ac5ca50ca3",
   "metadata": {},
   "outputs": [],
   "source": []
  }
 ],
 "metadata": {
  "kernelspec": {
   "display_name": "mlenv",
   "language": "python",
   "name": "mlenv"
  },
  "language_info": {
   "codemirror_mode": {
    "name": "ipython",
    "version": 3
   },
   "file_extension": ".py",
   "mimetype": "text/x-python",
   "name": "python",
   "nbconvert_exporter": "python",
   "pygments_lexer": "ipython3",
   "version": "3.7.11"
  }
 },
 "nbformat": 4,
 "nbformat_minor": 5
}
